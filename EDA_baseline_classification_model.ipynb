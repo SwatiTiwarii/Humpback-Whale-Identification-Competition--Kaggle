{
 "cells": [
  {
   "cell_type": "markdown",
   "metadata": {},
   "source": [
    "# First attempt at humpback whale classification"
   ]
  },
  {
   "cell_type": "markdown",
   "metadata": {},
   "source": [
    "Here is my attempt to apply learning of fastai v3 course at humpback whale competition. Along with that i am borrowing codes from 'https://github.com/radekosmulski/whale/'. Big thanks to him for creating such an awesome repository to get a good starting point at this competition"
   ]
  },
  {
   "cell_type": "code",
   "execution_count": 29,
   "metadata": {},
   "outputs": [],
   "source": [
    "%matplotlib inline\n",
    "import matplotlib.pyplot as plt\n",
    "from fastai.vision import *\n",
    "from fastai.metrics import accuracy\n",
    "from fastai.basic_data import *\n",
    "#from skimage.util import montage\n",
    "import pandas as pd\n",
    "from torch import optim\n",
    "import re\n",
    "\n",
    "\n",
    "import numpy as np\n",
    "import torch\n",
    "import pandas as pd\n",
    "import os \n",
    "import sys\n",
    "from utils import *"
   ]
  },
  {
   "cell_type": "code",
   "execution_count": 2,
   "metadata": {},
   "outputs": [],
   "source": [
    "import fastai\n",
    "from fastprogress import force_console_behavior\n",
    "import fastprogress\n",
    "fastprogress.fastprogress.NO_BAR = True\n",
    "master_bar, progress_bar = force_console_behavior()\n",
    "fastai.basic_train.master_bar, fastai.basic_train.progress_bar = master_bar, progress_bar"
   ]
  },
  {
   "cell_type": "code",
   "execution_count": 3,
   "metadata": {},
   "outputs": [],
   "source": [
    "def top_5_pred_labels(preds, classes):\n",
    "    top_5 = top_5_preds(preds)\n",
    "    labels = []\n",
    "    for i in range(top_5.shape[0]):\n",
    "        labels.append(' '.join([classes[idx] for idx in top_5[i]]))\n",
    "    return labels\n",
    "\n",
    "def create_submission(preds, data, name, classes=None):\n",
    "    if not classes: classes = data.classes\n",
    "    sub = pd.DataFrame({'Image': [path.name for path in data.test_ds.x.items]})\n",
    "    sub['Id'] = top_5_pred_labels(preds, classes)\n",
    "    sub.to_csv(f'data/whale/subs/{name}.csv' , index = False)\n",
    "    #sub.to_csv(f'subs/{name}.csv.gz', index=False, compression='gzip')\n",
    "                                                                        \n"
   ]
  },
  {
   "cell_type": "code",
   "execution_count": 4,
   "metadata": {},
   "outputs": [],
   "source": [
    "df = pd.read_csv('data/whale/train.csv')\n",
    "freq_whale_ids = df.Id.value_counts().reset_index()"
   ]
  },
  {
   "cell_type": "code",
   "execution_count": 5,
   "metadata": {},
   "outputs": [
    {
     "name": "stdout",
     "output_type": "stream",
     "text": [
      "38.11 % of whales in training data are un-recognized ones (new_whale)\n"
     ]
    }
   ],
   "source": [
    "print(100*round(freq_whale_ids[freq_whale_ids['index']=='new_whale']['Id'].values[0]/freq_whale_ids['Id'].sum(),4) ,'% of whales in training data are un-recognized ones (new_whale)' )\n"
   ]
  },
  {
   "cell_type": "markdown",
   "metadata": {},
   "source": [
    "Because almost 38% of data is from  un-recognised category , we can remove that data from modelling. We will first train a CNN classifier on only images with recognised categories. "
   ]
  },
  {
   "cell_type": "code",
   "execution_count": 6,
   "metadata": {},
   "outputs": [],
   "source": [
    "## subset of data after removing new whale category\n",
    "freq_whale_ids2 = freq_whale_ids[freq_whale_ids['index']!='new_whale']"
   ]
  },
  {
   "cell_type": "code",
   "execution_count": 7,
   "metadata": {},
   "outputs": [
    {
     "data": {
      "image/png": "[encoded data removed]",
      "text/plain": [
       "<Figure size 864x288 with 2 Axes>"
      ]
     },
     "metadata": {
      "needs_background": "light"
     },
     "output_type": "display_data"
    }
   ],
   "source": [
    "plt.figure(figsize=(12 ,4))\n",
    "plt.subplot(121)\n",
    "_, _,_ = plt.hist(freq_whale_ids2['Id'].values)\n",
    "plt.xlabel('# of images in category')\n",
    "plt.ylabel('Frequency')\n",
    "plt.title('Distribution of different whale categories')\n",
    "\n",
    "plt.subplot(122)\n",
    "_ = plt.plot(freq_whale_ids2['Id'].values)\n",
    "plt.xlabel('Index of whale category')\n",
    "plt.ylabel('Log scale : size of category')\n",
    "plt.title('Count of images in different whale categories : log scale')\n",
    "plt.gca().set_yscale('log')"
   ]
  },
  {
   "cell_type": "markdown",
   "metadata": {},
   "source": [
    "We can see from the histogram plot that most of the categories (around 5000) have around 8 images in training data. Let us look at exact percentages"
   ]
  },
  {
   "cell_type": "code",
   "execution_count": 8,
   "metadata": {},
   "outputs": [
    {
     "name": "stdout",
     "output_type": "stream",
     "text": [
      "41.42 % of whale categories have just 1 image in training data\n",
      "95.44 % of whale categories have less than 10 images in training data\n"
     ]
    }
   ],
   "source": [
    "print(round((freq_whale_ids[freq_whale_ids['Id']==1]['Id'].values.sum())/(freq_whale_ids['index'].nunique())*100,2) , '% of whale categories have just 1 image in training data')\n",
    "print(round((freq_whale_ids[freq_whale_ids['Id']<=10]['index'].nunique())/(freq_whale_ids['index'].nunique())*100,2) , '% of whale categories have less than 10 images in training data')"
   ]
  },
  {
   "cell_type": "markdown",
   "metadata": {},
   "source": [
    "Let us try a resnet 50 classifier on the data sets , we will create validation data split according to some function"
   ]
  },
  {
   "cell_type": "code",
   "execution_count": 14,
   "metadata": {},
   "outputs": [],
   "source": [
    "fn2label = {row[1].Image: row[1].Id for row in df.iterrows()}\n",
    "path2fn = lambda path: re.search('\\w*\\.jpg$', path).group(0)\n"
   ]
  },
  {
   "cell_type": "markdown",
   "metadata": {},
   "source": [
    "## For categories having at least 2 images we will put one image in validation data"
   ]
  },
  {
   "cell_type": "code",
   "execution_count": 9,
   "metadata": {},
   "outputs": [],
   "source": [
    "freq_whale_ids.rename(columns={'index': 'Id' , 'Id':'count'} , inplace = True)\n",
    "val_set_freq = freq_whale_ids[(freq_whale_ids['count']>1)]\n",
    "df_count = df.merge(val_set_freq , how = 'inner' , on = ['Id'])\n"
   ]
  },
  {
   "cell_type": "code",
   "execution_count": 10,
   "metadata": {},
   "outputs": [
    {
     "name": "stdout",
     "output_type": "stream",
     "text": [
      "Size of validationd data set 2932\n"
     ]
    }
   ],
   "source": [
    "val_idxs = set(df_count.groupby('Id').first()['Image'].values)\n",
    "print('Size of validationd data set' , len(val_idxs))"
   ]
  },
  {
   "cell_type": "code",
   "execution_count": 11,
   "metadata": {},
   "outputs": [],
   "source": [
    "name = f'res50-first-submission'"
   ]
  },
  {
   "cell_type": "code",
   "execution_count": 12,
   "metadata": {},
   "outputs": [],
   "source": [
    "SZ = 64\n",
    "BS = 64\n",
    "NUM_WORKERS = 12\n",
    "SEED = 0"
   ]
  },
  {
   "cell_type": "code",
   "execution_count": 15,
   "metadata": {},
   "outputs": [],
   "source": [
    "data = (\n",
    "    ImageItemList\n",
    "        .from_df(df ,'data/whale/train', cols=['Image'])\n",
    "        .split_by_valid_func(lambda path: path2fn(path) in val_idxs)\n",
    "        .label_from_func(lambda path: fn2label[path2fn(path)])\n",
    "        .add_test(ImageItemList.from_folder('data/whale/test'))\n",
    "        .transform(get_transforms(do_flip=False , max_rotate = 2), size=SZ, resize_method=ResizeMethod.SQUISH)\n",
    "        .databunch(bs=BS, num_workers=NUM_WORKERS, path='data')\n",
    "        .normalize(imagenet_stats)\n",
    ")"
   ]
  },
  {
   "cell_type": "code",
   "execution_count": 16,
   "metadata": {},
   "outputs": [
    {
     "name": "stderr",
     "output_type": "stream",
     "text": [
      "Downloading: \"https://download.pytorch.org/models/resnet18-5c106cde.pth\" to /home/FRACTAL/jitesh.arora/.torch/models/resnet18-5c106cde.pth\n",
      "100%|██████████| 46827520/46827520 [00:05<00:00, 9230265.11it/s] \n"
     ]
    },
    {
     "name": "stdout",
     "output_type": "stream",
     "text": [
      "epoch     train_loss  valid_loss\n",
      "1         5.620665    9.347747    \n",
      "2         5.225325    9.499393    \n"
     ]
    }
   ],
   "source": [
    "learn = create_cnn(data , models.resnet18)\n",
    "learn.fit_one_cycle(2)\n"
   ]
  },
  {
   "cell_type": "code",
   "execution_count": 17,
   "metadata": {},
   "outputs": [
    {
     "name": "stdout",
     "output_type": "stream",
     "text": [
      "epoch     train_loss  valid_loss\n",
      "1         20.128336               \n",
      "LR Finder is complete, type {learner_name}.recorder.plot() to see the graph.\n"
     ]
    },
    {
     "data": {
      "image/png": "[encoded data removed]",
      "text/plain": [
       "<Figure size 432x288 with 1 Axes>"
      ]
     },
     "metadata": {
      "needs_background": "light"
     },
     "output_type": "display_data"
    }
   ],
   "source": [
    "learn.lr_find()\n",
    "learn.recorder.plot()"
   ]
  },
  {
   "cell_type": "code",
   "execution_count": 19,
   "metadata": {},
   "outputs": [
    {
     "data": {
      "image/png": "[encoded data removed]",
      "text/plain": [
       "<Figure size 432x288 with 1 Axes>"
      ]
     },
     "metadata": {
      "needs_background": "light"
     },
     "output_type": "display_data"
    }
   ],
   "source": [
    "learn.recorder.plot_lr()"
   ]
  },
  {
   "cell_type": "code",
   "execution_count": 20,
   "metadata": {},
   "outputs": [],
   "source": [
    "max_lr = 1e-4\n",
    "lrs = [max_lr/100 , max_lr/10 , max_lr]"
   ]
  },
  {
   "cell_type": "code",
   "execution_count": 21,
   "metadata": {},
   "outputs": [
    {
     "name": "stdout",
     "output_type": "stream",
     "text": [
      "epoch     train_loss  valid_loss\n",
      "1         5.058058    9.442575    \n",
      "2         5.063495    9.467267    \n",
      "3         4.854183    9.424864    \n",
      "4         4.933847    9.365927    \n",
      "5         4.894750    9.367785    \n"
     ]
    }
   ],
   "source": [
    "learn.unfreeze()\n",
    "learn.fit_one_cycle(5, lrs)"
   ]
  },
  {
   "cell_type": "code",
   "execution_count": 22,
   "metadata": {},
   "outputs": [
    {
     "name": "stdout",
     "output_type": "stream",
     "text": [
      "epoch     train_loss  valid_loss\n",
      "1         4.799887    9.397250    \n",
      "2         4.743395    9.365311    \n",
      "3         4.826654    9.352144    \n",
      "4         4.828978    9.259808    \n",
      "5         4.800480    9.230893    \n",
      "6         4.681401    9.243524    \n",
      "7         4.696200    9.174604    \n",
      "8         4.516544    9.139720    \n",
      "9         4.592390    9.061385    \n",
      "10        4.558135    9.099194    \n",
      "11        4.481848    9.054968    \n",
      "12        4.337978    9.013273    \n",
      "13        4.439382    8.987525    \n",
      "14        4.309020    8.992174    \n",
      "15        4.263684    8.978573    \n",
      "16        4.201837    9.007794    \n",
      "17        4.179200    8.988955    \n",
      "18        4.181356    8.902350    \n",
      "19        4.202553    8.954312    \n",
      "20        4.201358    8.956646    \n",
      "21        4.113857    8.925042    \n",
      "22        4.278600    9.012268    \n",
      "23        4.099959    8.907429    \n",
      "24        4.029446    8.866950    \n"
     ]
    }
   ],
   "source": [
    "learn.fit_one_cycle(24 , lrs)\n",
    "learn.save(f'{name}-stage-2')\n"
   ]
  },
  {
   "cell_type": "code",
   "execution_count": 23,
   "metadata": {},
   "outputs": [
    {
     "data": {
      "image/png": "[encoded data removed]",
      "text/plain": [
       "<Figure size 432x288 with 1 Axes>"
      ]
     },
     "metadata": {
      "needs_background": "light"
     },
     "output_type": "display_data"
    }
   ],
   "source": [
    "learn.recorder.plot_losses()"
   ]
  },
  {
   "cell_type": "code",
   "execution_count": 34,
   "metadata": {},
   "outputs": [],
   "source": [
    "preds, _ = learn.get_preds(DatasetType.Test)\n",
    "#preds = torch.cat((preds, torch.ones_like(preds[:, :1])), 1)"
   ]
  },
  {
   "cell_type": "code",
   "execution_count": 35,
   "metadata": {},
   "outputs": [],
   "source": [
    "classes = learn.data.classes"
   ]
  },
  {
   "cell_type": "code",
   "execution_count": 36,
   "metadata": {},
   "outputs": [],
   "source": [
    "name = 'whale_first_submission_classifier'\n",
    "create_submission(preds, learn.data, name, classes)"
   ]
  },
  {
   "cell_type": "code",
   "execution_count": null,
   "metadata": {},
   "outputs": [],
   "source": []
  }
 ],
 "metadata": {
  "kernelspec": {
   "display_name": "Python 3",
   "language": "python",
   "name": "python3"
  },
  "language_info": {
   "codemirror_mode": {
    "name": "ipython",
    "version": 3
   },
   "file_extension": ".py",
   "mimetype": "text/x-python",
   "name": "python",
   "nbconvert_exporter": "python",
   "pygments_lexer": "ipython3",
   "version": "3.6.7"
  }
 },
 "nbformat": 4,
 "nbformat_minor": 2
}
